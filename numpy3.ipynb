{
 "cells": [
  {
   "cell_type": "code",
   "execution_count": 2,
   "id": "e809b472",
   "metadata": {},
   "outputs": [],
   "source": [
    "import numpy as np"
   ]
  },
  {
   "cell_type": "code",
   "execution_count": 6,
   "id": "081bb774",
   "metadata": {},
   "outputs": [
    {
     "data": {
      "text/plain": [
       "array([[0., 0., 0., 0.],\n",
       "       [0., 0., 0., 0.],\n",
       "       [0., 0., 0., 0.],\n",
       "       [0., 0., 0., 0.]])"
      ]
     },
     "execution_count": 6,
     "metadata": {},
     "output_type": "execute_result"
    }
   ],
   "source": [
    "a=np.zeros((4,4))\n",
    "a[0:2]"
   ]
  },
  {
   "cell_type": "code",
   "execution_count": 8,
   "id": "77e0ee0c",
   "metadata": {},
   "outputs": [
    {
     "data": {
      "text/plain": [
       "array([[[-1.79298817, -0.60302578,  0.54735827],\n",
       "        [-0.72002721, -0.06952471, -0.41591816],\n",
       "        [ 0.60289181, -1.38440102,  0.73598314]],\n",
       "\n",
       "       [[ 1.5667294 ,  1.90861689, -0.66308469],\n",
       "        [ 1.08964867,  0.83789373, -2.13826141],\n",
       "        [ 0.70575049, -0.49127406,  1.75862574]],\n",
       "\n",
       "       [[-0.01470869,  0.12486744, -0.08828063],\n",
       "        [ 0.05726613, -0.98312137, -1.34278832],\n",
       "        [ 0.50514991, -1.46580698, -1.33508639]]])"
      ]
     },
     "execution_count": 8,
     "metadata": {},
     "output_type": "execute_result"
    }
   ],
   "source": [
    "b=np.random.randn(3,3,3)\n",
    "b"
   ]
  },
  {
   "cell_type": "code",
   "execution_count": 15,
   "id": "129a9ed6",
   "metadata": {},
   "outputs": [
    {
     "data": {
      "text/plain": [
       "numpy.ndarray"
      ]
     },
     "execution_count": 15,
     "metadata": {},
     "output_type": "execute_result"
    }
   ],
   "source": [
    "b=np.arange(10)\n",
    "c=np.arange(10)\n",
    "b+c\n",
    "#np.sum(b,c)\n",
    "type(b)"
   ]
  }
 ],
 "metadata": {
  "kernelspec": {
   "display_name": "Python 3 (ipykernel)",
   "language": "python",
   "name": "python3"
  },
  "language_info": {
   "codemirror_mode": {
    "name": "ipython",
    "version": 3
   },
   "file_extension": ".py",
   "mimetype": "text/x-python",
   "name": "python",
   "nbconvert_exporter": "python",
   "pygments_lexer": "ipython3",
   "version": "3.11.2"
  }
 },
 "nbformat": 4,
 "nbformat_minor": 5
}
